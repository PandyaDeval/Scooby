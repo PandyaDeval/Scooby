{
 "cells": [
  {
   "cell_type": "code",
   "execution_count": 16,
   "metadata": {},
   "outputs": [
    {
     "name": "stdout",
     "output_type": "stream",
     "text": [
      "Requirement already satisfied: SpeechRecognition in c:\\users\\dharmik\\anaconda3\\lib\\site-packages (3.8.1)\n"
     ]
    }
   ],
   "source": [
    "!pip install SpeechRecognition"
   ]
  },
  {
   "cell_type": "code",
   "execution_count": 2,
   "metadata": {},
   "outputs": [],
   "source": [
    "import spacy\n",
    "import speech_recognition as sr"
   ]
  },
  {
   "cell_type": "code",
   "execution_count": 12,
   "metadata": {},
   "outputs": [],
   "source": [
    "nlp=spacy.load('en') "
   ]
  },
  {
   "cell_type": "code",
   "execution_count": 22,
   "metadata": {},
   "outputs": [],
   "source": [
    "query = str('start mozilla')       #converting speech to text using speech_to_text API \n",
    "\n",
    "doc=nlp(query)\n",
    "\n",
    "def noun(x):\n",
    "    nounlist=[]\n",
    "    for token in x:\n",
    "        if token.pos_=='NOUN':\n",
    "            nounlist.append(token.text)\n",
    "    return nounlist\n",
    "\n",
    "def adj(x):\n",
    "    adjlist=[]\n",
    "    for token in x:\n",
    "        if token.pos_=='ADJ':\n",
    "            adjlist.append(token.text)\n",
    "    return adjlist\n",
    "def verb(x):\n",
    "    verblist=[]\n",
    "    for token in x:\n",
    "        if token.pos_=='VERB':\n",
    "            verblist.append(token.text)\n",
    "    return verblist\n",
    "\n",
    "if not noun(doc):\n",
    "    pass\n",
    "else:\n",
    "    name=noun(doc)[0]\n",
    "\n",
    "if not adj(doc):\n",
    "    pass\n",
    "else:\n",
    "    task=adj(doc)[0]\n",
    "    \n",
    "if not verb(doc):\n",
    "    pass\n",
    "else:\n",
    "    do=verb(doc)[0]\n",
    "\n",
    "from spacy.lang.en.stop_words import STOP_WORDS\n",
    "words=[word for word in doc if word.is_stop==False]"
   ]
  },
  {
   "cell_type": "code",
   "execution_count": 4,
   "metadata": {},
   "outputs": [
    {
     "name": "stdout",
     "output_type": "stream",
     "text": [
      "start ----- VERB\n",
      "the ----- DET\n",
      "notepad ----- NOUN\n"
     ]
    }
   ],
   "source": [
    "# token=nlp('start the notepad')\n",
    "# for i in token:\n",
    "#     print(i.text,'-----',i.pos_)"
   ]
  }
 ],
 "metadata": {
  "kernelspec": {
   "display_name": "Python 3",
   "language": "python",
   "name": "python3"
  },
  "language_info": {
   "codemirror_mode": {
    "name": "ipython",
    "version": 3
   },
   "file_extension": ".py",
   "mimetype": "text/x-python",
   "name": "python",
   "nbconvert_exporter": "python",
   "pygments_lexer": "ipython3",
   "version": "3.7.1"
  }
 },
 "nbformat": 4,
 "nbformat_minor": 2
}
