# encoding: utf-8
from __future__ import print_function
from os import path
from pywinauto import Desktop, Application
#from pywinauto.keyboard import SendKeys
from pywinauto.keyboard import SendKeys, KeySequenceError
from pywinauto.timings import wait_until
import re

def start_app(app_name):
    try:
        app=Application().start(app_name)
        apps.append(app)
    
    except:
        with open("paths.txt") as f:
            for line in f:
                try:
                    line=re.split("-",line,1)
                    app_path = line[1][:-1] + app_name
                    print(app_path)
                    app=Application().start(app_path + " --renderer-force-accessibility")
                    break
                except:
                    continue

obj="notepad"
verb="start"
apps=[]
wait_until(10,0.5,start_app(obj))
SendKeys("hello")



